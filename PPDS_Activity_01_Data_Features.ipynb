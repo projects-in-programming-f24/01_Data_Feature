{
  "nbformat": 4,
  "nbformat_minor": 0,
  "metadata": {
    "colab": {
      "provenance": [],
      "include_colab_link": true
    },
    "kernelspec": {
      "name": "python3",
      "display_name": "Python 3"
    },
    "language_info": {
      "name": "python"
    }
  },
  "cells": [
    {
      "cell_type": "markdown",
      "metadata": {
        "id": "view-in-github",
        "colab_type": "text"
      },
      "source": [
        "<a href=\"https://colab.research.google.com/github/projects-in-programming-f24/01_Data_Feature/blob/main/PPDS_Activity_01_Data_Features.ipynb\" target=\"_parent\"><img src=\"https://colab.research.google.com/assets/colab-badge.svg\" alt=\"Open In Colab\"/></a>"
      ]
    },
    {
      "cell_type": "markdown",
      "source": [
        "# Data Features: Portfolio News\n",
        "\n",
        "In this exercise, we will build a simple data feature prototype that helps users find news articles related to a specific stock ticker.\n",
        "\n",
        "The process of building this should help you think about interesting ways you might combine data and APIs in interesting ways for your assignment this week.\n",
        "\n",
        "We will use two APIs:\n",
        "1. An API to convert a stock ticker to the company name.\n",
        "2. The NYTimes Article Search API to find news articles related to the company.\n",
        "\n",
        "## Steps:\n",
        "1. User enters a stock ticker symbol.\n",
        "2. We use an API to convert the ticker to the company name.\n",
        "3. We call the NYTimes API with the company name to retrieve related articles."
      ],
      "metadata": {
        "id": "6spjWWAI1hCT"
      }
    },
    {
      "cell_type": "markdown",
      "source": [
        "# Setting Up the APIs\n",
        "\n",
        "First, we need to set up the API keys for the services we will use:\n",
        "1. A service to convert stock tickers to company names.\n",
        "2. The NYTimes Article Search API.\n",
        "\n",
        "STEP 1: Sign up for the NYTimes API: https://developer.nytimes.com/\n",
        "- then follow the steps here: https://developer.nytimes.com/get-started\n",
        "- add your APPs `API KEY` to the `SECRETS` tab here in Google Colab\n",
        "\n",
        "STEP 2: Sign up for an API Key at Alpha Vantage: https://www.alphavantage.co/\n",
        "- add it to your `SECRETS` tab in collab too.\n",
        "\n",
        "Make sure you have your API keys stored in the `SECRETS` tab on the left (key icon) and named like the variables provided below. The first code cell has you prove that they are present :)"
      ],
      "metadata": {
        "id": "iHM6nxdK1rLn"
      }
    },
    {
      "cell_type": "code",
      "execution_count": null,
      "metadata": {
        "colab": {
          "base_uri": "https://localhost:8080/"
        },
        "id": "XPH1nP0I1gNr",
        "outputId": "f47cf37e-74d1-4d81-bc04-e7246704d554"
      },
      "outputs": [
        {
          "output_type": "stream",
          "name": "stdout",
          "text": [
            "NYTimes API key retrieved successfully!\n",
            "Stock API key is set!\n"
          ]
        }
      ],
      "source": [
        "# Set up the API keys\n",
        "from google.colab import userdata\n",
        "\n",
        "# Retrieve the NYTimes API key\n",
        "NYTIMES_API_KEY = userdata.get('NYTIMES_API_KEY')\n",
        "\n",
        "# Set up the API key for the stock ticker to company name service\n",
        "ALPHA_VANTAGE_KEY = userdata.get('ALPHA_VANTAGE_KEY')\n",
        "\n",
        "# Print confirmation messages, do not print API keys (bad practice!)\n",
        "if NYTIMES_API_KEY:\n",
        "    print(\"NYTimes API key retrieved successfully!\")\n",
        "else:\n",
        "    print(\"Failed to retrieve NYTimes API key. Please check your setup.\")\n",
        "\n",
        "if ALPHA_VANTAGE_KEY:\n",
        "    print(\"Stock API key is set!\")\n",
        "else:\n",
        "    print(\"Failed to set Stock API key. Please check your setup.\")"
      ]
    },
    {
      "cell_type": "markdown",
      "source": [
        "# Convert Ticker to Company Name\n",
        "\n",
        "We will use a simple call to the Alpha Vantage API to convert a stock ticker symbol (e.g., AAPL) into the corresponding company name (e.g., Apple Inc.).\n",
        "\n",
        "They have an endpoint called `SYMBOL_SEARCH` that allows us to search for a ticker and returns the company name.\n",
        "\n"
      ],
      "metadata": {
        "id": "baTvZrVj2MlO"
      }
    },
    {
      "cell_type": "code",
      "source": [
        "# Let's just see what the data looks like\n",
        "# API Documentation: https://www.alphavantage.co/documentation/\n",
        "\n",
        "import requests\n",
        "\n",
        "# replace the \"demo\" apikey below with your own key from https://www.alphavantage.co/support/#api-key\n",
        "url = f'https://www.alphavantage.co/query?function=SYMBOL_SEARCH&keywords=tesco&apikey={ALPHA_VANTAGE_KEY}'\n",
        "r = requests.get(url)\n",
        "data = r.json()\n",
        "\n",
        "print(data)"
      ],
      "metadata": {
        "colab": {
          "base_uri": "https://localhost:8080/"
        },
        "id": "UxAmuS_c4HAz",
        "outputId": "0aa57f43-3af6-4a36-a338-9368643186f7"
      },
      "execution_count": null,
      "outputs": [
        {
          "output_type": "stream",
          "name": "stdout",
          "text": [
            "{'bestMatches': [{'1. symbol': 'TSCO.LON', '2. name': 'Tesco PLC', '3. type': 'Equity', '4. region': 'United Kingdom', '5. marketOpen': '08:00', '6. marketClose': '16:30', '7. timezone': 'UTC+01', '8. currency': 'GBX', '9. matchScore': '0.7273'}, {'1. symbol': 'TSCDF', '2. name': 'Tesco plc', '3. type': 'Equity', '4. region': 'United States', '5. marketOpen': '09:30', '6. marketClose': '16:00', '7. timezone': 'UTC-04', '8. currency': 'USD', '9. matchScore': '0.7143'}, {'1. symbol': 'TSCDY', '2. name': 'Tesco plc', '3. type': 'Equity', '4. region': 'United States', '5. marketOpen': '09:30', '6. marketClose': '16:00', '7. timezone': 'UTC-04', '8. currency': 'USD', '9. matchScore': '0.7143'}, {'1. symbol': 'TCO2.FRK', '2. name': 'TESCO PLC ADR/1 LS-05', '3. type': 'Equity', '4. region': 'Frankfurt', '5. marketOpen': '08:00', '6. marketClose': '20:00', '7. timezone': 'UTC+02', '8. currency': 'EUR', '9. matchScore': '0.5455'}, {'1. symbol': 'TCO0.FRK', '2. name': 'TESCO PLC LS-0633333', '3. type': 'Equity', '4. region': 'Frankfurt', '5. marketOpen': '08:00', '6. marketClose': '20:00', '7. timezone': 'UTC+02', '8. currency': 'EUR', '9. matchScore': '0.5455'}]}\n"
          ]
        }
      ]
    },
    {
      "cell_type": "code",
      "source": [
        "# okay, so it looks like we get JSON back where the key `bestMatches` has an array of key:value pairs, and `2. name` is the name associated with the ticker.\n",
        "import requests\n",
        "\n",
        "# Function to convert ticker to company name using Alpha Vantage API\n",
        "def get_company_name(ticker):\n",
        "    url = f'https://www.alphavantage.co/query?function=SYMBOL_SEARCH&keywords={ticker}&apikey={ALPHA_VANTAGE_KEY}'\n",
        "    response = requests.get(url)\n",
        "    if response.status_code == 200:\n",
        "        data = response.json()\n",
        "        if 'bestMatches' in data and data['bestMatches']:\n",
        "            return data['bestMatches'][0]['2. name']\n",
        "        else:\n",
        "            print(\"Company name not found. Please check the ticker symbol and try again.\")\n",
        "            return None\n",
        "    else:\n",
        "        print(\"Failed to retrieve company name. Please check the ticker symbol and try again.\")\n",
        "        return None\n",
        "\n",
        "# Test this and see if we can store a company name\n",
        "ticker = 'AAPL'\n",
        "company_name = get_company_name(ticker)\n",
        "print(f'The company name for ticker {ticker} is {company_name}')\n"
      ],
      "metadata": {
        "colab": {
          "base_uri": "https://localhost:8080/"
        },
        "id": "rsiMOCtv2NQc",
        "outputId": "3a17975a-bb92-4858-bd5f-cce2a3490121"
      },
      "execution_count": null,
      "outputs": [
        {
          "output_type": "stream",
          "name": "stdout",
          "text": [
            "The company name for ticker AAPL is Apple Inc\n"
          ]
        }
      ]
    },
    {
      "cell_type": "markdown",
      "source": [
        "# Search for Articles Using NYTimes API\n",
        "\n",
        "Now that we have the company name, we will use the NYTimes Article Search API to find news articles related to this company.\n"
      ],
      "metadata": {
        "id": "th9Z5dDe2wMf"
      }
    },
    {
      "cell_type": "code",
      "source": [
        "# Function to search for articles\n",
        "def search_articles(company_name):\n",
        "    url = f'https://api.nytimes.com/svc/search/v2/articlesearch.json?q={company_name}&api-key={NYTIMES_API_KEY}'\n",
        "    response = requests.get(url)\n",
        "    if response.status_code == 200:\n",
        "        data = response.json()\n",
        "        return data['response']['docs']\n",
        "    else:\n",
        "        print(\"Failed to retrieve articles. Please try again.\")\n",
        "        return []\n",
        "\n",
        "# Test the function, we should get 10 articles back\n",
        "articles = search_articles(company_name)\n",
        "print(f'Found {len(articles)} articles related to {company_name}')\n",
        "\n",
        "# Display 3 articles so we can test this\n",
        "for article in articles[:3]:\n",
        "    print(f\"Title: {article['headline']['main']}\")\n",
        "    print(f\"URL: {article['web_url']}\\n\")\n"
      ],
      "metadata": {
        "colab": {
          "base_uri": "https://localhost:8080/"
        },
        "id": "t6sjTYaL2ytC",
        "outputId": "5e90aed8-2288-4936-8f11-4c57cee03b55"
      },
      "execution_count": null,
      "outputs": [
        {
          "output_type": "stream",
          "name": "stdout",
          "text": [
            "Found 10 articles related to Apple Inc\n",
            "Title: Berkshire’s Cash Stockpile Soars as It Cuts Its Stake in Apple\n",
            "URL: https://www.nytimes.com/2024/08/03/business/berkshire-hathaway-buffett-earnings.html\n",
            "\n",
            "Title: Apple Store Workers Get First U.S. Contract\n",
            "URL: https://www.nytimes.com/2024/08/06/business/economy/apple-store-union-contract.html\n",
            "\n",
            "Title: Sales of Macs and iPads Lead Apple’s Quarterly Revenue Up 5%\n",
            "URL: https://www.nytimes.com/2024/08/01/technology/apple-quarterly-revenue-up-5.html\n",
            "\n"
          ]
        }
      ]
    },
    {
      "cell_type": "markdown",
      "source": [
        "# Putting It All Together\n",
        "\n",
        "We have now built the components to:\n",
        "1. Convert a stock ticker to a company name.\n",
        "2. Search for news articles related to the company.\n",
        "\n",
        "Let's combine these steps into a single function that takes a ticker symbol as input and returns the related news articles.\n",
        "\n",
        "Note: In a real data product, we would have fancy things like a UI, the ability to add and remove tickers, financial metrics, robust error handling, etc..., but for now though we can simply have the user enter a ticker and then display 10 articles\n"
      ],
      "metadata": {
        "id": "NGyTSuCq2_VC"
      }
    },
    {
      "cell_type": "code",
      "source": [
        "# Combined function to get the ticker's company and the articles\n",
        "def get_articles_for_ticker(ticker):\n",
        "    company_name = get_company_name(ticker)\n",
        "    if company_name:\n",
        "        articles = search_articles(company_name)\n",
        "        return articles\n",
        "    else:\n",
        "        return [] # return an empty array\n",
        "\n",
        "# Function to display news articles\n",
        "def display_articles(articles):\n",
        "    if articles:\n",
        "        print(f'Found {len(articles)} articles:')\n",
        "        for article in articles[:10]:  # Display 10 articles\n",
        "            print(f\"Title: {article['headline']['main']}\")\n",
        "            print(f\"URL: {article['web_url']}\\n\")\n",
        "    else:\n",
        "        print(\"No articles found.\")\n",
        "\n",
        "# User input for ticker symbol\n",
        "ticker = input(\"Enter a stock ticker symbol: \")\n",
        "articles = get_articles_for_ticker(ticker)\n",
        "display_articles(articles)"
      ],
      "metadata": {
        "colab": {
          "base_uri": "https://localhost:8080/"
        },
        "id": "B2eCXS4e3eUD",
        "outputId": "ec0338da-fd83-4153-c2bd-24fcdc1e6bb8"
      },
      "execution_count": null,
      "outputs": [
        {
          "output_type": "stream",
          "name": "stdout",
          "text": [
            "Enter a stock ticker symbol: BBER\n",
            "Company name not found. Please check the ticker symbol and try again.\n",
            "No articles found.\n"
          ]
        }
      ]
    }
  ]
}